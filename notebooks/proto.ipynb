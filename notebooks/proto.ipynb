{
 "metadata": {
  "language_info": {
   "codemirror_mode": {
    "name": "ipython",
    "version": 3
   },
   "file_extension": ".py",
   "mimetype": "text/x-python",
   "name": "python",
   "nbconvert_exporter": "python",
   "pygments_lexer": "ipython3",
   "version": "3.7.6-final"
  },
  "orig_nbformat": 2,
  "kernelspec": {
   "name": "python3",
   "display_name": "Python 3"
  }
 },
 "nbformat": 4,
 "nbformat_minor": 2,
 "cells": [
  {
   "cell_type": "code",
   "execution_count": 4,
   "metadata": {},
   "outputs": [],
   "source": [
    "import numpy as np \n",
    "import abc"
   ]
  },
  {
   "cell_type": "code",
   "execution_count": 69,
   "metadata": {},
   "outputs": [],
   "source": [
    "############################################\n",
    "# Abstract Class Derivative\n",
    "############################################\n",
    "\n",
    "class Derivative(abc.ABC):\n",
    "    def __init__(self, seed=0):\n",
    "        self.seed = seed\n",
    "        self.name = 'abstract'\n",
    "        self.params = {}\n",
    "\n",
    "    @abc.abstractmethod\n",
    "    def price_monte_carlo(self):\n",
    "        raise NotImplementedError\n",
    "\n",
    "    @abc.abstractmethod\n",
    "    def greeks_difference_method(self):\n",
    "        raise NotImplementedError\n",
    "    \n",
    "    @abc.abstractmethod\n",
    "    def greeks_exact(self):\n",
    "        raise NotImplementedError\n",
    "\n",
    "    @abc.abstractmethod\n",
    "    def greeks_malliavin(self, x, y, T):\n",
    "        raise NotImplementedError"
   ]
  },
  {
   "cell_type": "code",
   "execution_count": 76,
   "metadata": {},
   "outputs": [],
   "source": [
    "class VanillaDerivative(Derivative):\n",
    "    def __init__(self, S0, K, r, sigma, T, payoff, name, seed=0):\n",
    "        self.seed = seed\n",
    "        self.name = \"_\".join(['vanilla',\"name\"])\n",
    "        self.params = {'price_0':S0,'strike':K,'interest_rate':r,'vol':sigma,'maturity':T}\n",
    "        self.payoff = payoff\n",
    "    \n",
    "    def price_monte_carlo(self,N,epsilon = 0,param__=None):\n",
    "        G = np.random.normal(size=N)\n",
    "        sum = 0\n",
    "        params__ = self.params.copy()\n",
    "        if param__:\n",
    "            params__[param__] = self.params[param__] + epsilon\n",
    "        for i in range(N):\n",
    "            sum += self.payoff(params__['price_0'] * np.exp((params__['interest_rate']-params__['vol']**2/2)*params__['maturity']+params__['vol']*(params__['maturity']**0.5)*G[i]))\n",
    "\n",
    "        return sum*np.exp(-params__['interest_rate']*params__['maturity'])/N\n",
    "    \n",
    "    def greeks_difference_method(self,N,epsilon,param__,order = 1):\n",
    "        if order == 1 :\n",
    "            return (self.price_monte_carlo(N,epsilon,param__) + self.price_monte_carlo(N,-epsilon,param__) - 2* self.price_monte_carlo(N))/(epsilon*2)\n",
    "        if order == 2 : \n",
    "            return (self.price_monte_carlo(N,epsilon,param__) - self.price_monte_carlo(N,-epsilon,param__))/(epsilon**2)\n",
    "    \n",
    "    def greeks_exact(self):\n",
    "        raise NotImplementedError\n",
    "\n",
    "    def greeks_malliavin(self, x, y, T):\n",
    "        raise NotImplementedError"
   ]
  },
  {
   "cell_type": "code",
   "execution_count": 77,
   "metadata": {},
   "outputs": [],
   "source": [
    "T = 1\n",
    "S0 = 100\n",
    "sigma = 0.2\n",
    "r = 0.05\n",
    "K = 140\n",
    "payoff = lambda x: 0 if x <= K else 1\n",
    "name = 'digital'"
   ]
  },
  {
   "cell_type": "code",
   "execution_count": 78,
   "metadata": {},
   "outputs": [],
   "source": [
    "call_option = VanillaDerivative(S0, K, r, sigma, T, payoff, name)"
   ]
  },
  {
   "cell_type": "code",
   "execution_count": 79,
   "metadata": {},
   "outputs": [
    {
     "output_type": "execute_result",
     "data": {
      "text/plain": [
       "0.09131802475206839"
      ]
     },
     "metadata": {},
     "execution_count": 79
    }
   ],
   "source": [
    "call_option.greeks_difference_method(N=100_000,epsilon=0.05,param__='price_0',order=2)"
   ]
  }
 ]
}